{
 "cells": [
  {
   "cell_type": "code",
   "execution_count": 1,
   "metadata": {},
   "outputs": [
    {
     "name": "stdout",
     "output_type": "stream",
     "text": [
      "Sum: 60\n"
     ]
    }
   ],
   "source": [
    "#Q1 Given two integer numbers. If any of the numbers are greater than 50 return their product, else return their sum\n",
    "number1= 20\n",
    "number2= 40\n",
    "\n",
    "if(number1>20 and number2>40):\n",
    "    print(\"Product:\",number1*number2)\n",
    "else:\n",
    "    print(\"Sum:\",number1+number2)"
   ]
  },
  {
   "cell_type": "code",
   "execution_count": 20,
   "metadata": {},
   "outputs": [
    {
     "name": "stdout",
     "output_type": "stream",
     "text": [
      "True\n"
     ]
    }
   ],
   "source": [
    "#Q2 Given a list of numbers, return True if first and last number of a list is same\n",
    "#list=[1,2,5,4,1]\n",
    "List1=[1,2,5,4,1]\n",
    "\n",
    "if(List1[0]==List1[-1]):\n",
    "    print(True)\n",
    "    "
   ]
  },
  {
   "cell_type": "code",
   "execution_count": 30,
   "metadata": {
    "scrolled": true
   },
   "outputs": [
    {
     "name": "stdout",
     "output_type": "stream",
     "text": [
      "iretation: 1 Result: 1 + 0 = 1\n",
      "iretation: 2 Result: 2 + 1 = 3\n",
      "iretation: 3 Result: 3 + 2 = 5\n",
      "iretation: 4 Result: 4 + 3 = 7\n",
      "iretation: 5 Result: 5 + 4 = 9\n",
      "iretation: 6 Result: 6 + 5 = 11\n",
      "iretation: 7 Result: 7 + 6 = 13\n",
      "iretation: 8 Result: 8 + 7 = 15\n",
      "iretation: 9 Result: 9 + 8 = 17\n"
     ]
    }
   ],
   "source": [
    "#Q3 Given a range of the first 10 numbers[1:10], Iterate from the start number to the end number, \n",
    "#and In each iteration print the sum of the current number and previous number\n",
    "\n",
    "for i in range(1,10):\n",
    "    j=i-1\n",
    "    result=i+j\n",
    "    print(\"iretation:\",i,\"Result:\",i,\"+\",j,\"=\",result)\n",
    "    \n",
    "\n",
    "    "
   ]
  },
  {
   "cell_type": "code",
   "execution_count": 14,
   "metadata": {},
   "outputs": [
    {
     "name": "stdout",
     "output_type": "stream",
     "text": [
      "NoeCnd\n"
     ]
    }
   ],
   "source": [
    "#Q4 Given a string name, display only those characters which are present at an even index number\n",
    "name=\"NPowerCanada\"\n",
    "result = \"\" \n",
    "for i in range(len(name)):\n",
    "    if i % 2 == 0:\n",
    "        result = result + name[i]\n",
    "print(result)\n",
    "        \n",
    "        \n"
   ]
  },
  {
   "cell_type": "code",
   "execution_count": 18,
   "metadata": {},
   "outputs": [
    {
     "name": "stdout",
     "output_type": "stream",
     "text": [
      "Course\n"
     ]
    }
   ],
   "source": [
    "#Q5 Given a string oldString and an integer number n, \n",
    "#remove characters from a string starting from zero up to n and return a newString\n",
    "# oldString=\"PythonCourse\"\n",
    "#n=6\n",
    "oldString=\"PythonCourse\"\n",
    "n=6\n",
    "newString=\"\"\n",
    "  \n",
    "for i in range(len(oldString)):\n",
    "    if i >=n:\n",
    "        newString = newString + oldString[i]\n",
    "print(newString)\n",
    "    \n"
   ]
  },
  {
   "cell_type": "code",
   "execution_count": 1,
   "metadata": {},
   "outputs": [
    {
     "name": "stdout",
     "output_type": "stream",
     "text": [
      "*\n",
      "\n",
      "**\n",
      "\n",
      "***\n",
      "\n",
      "****\n",
      "\n"
     ]
    }
   ],
   "source": [
    "#Q6 Print the follwoing pattern\n",
    "\n",
    "#*\n",
    "#**\n",
    "#***\n",
    "#****\n",
    "\n",
    "for i in range(1,5):\n",
    "    for j in range(i):\n",
    "        print(\"*\",end=\"\")\n",
    "    print(\"\\n\")\n",
    "    "
   ]
  },
  {
   "cell_type": "code",
   "execution_count": 2,
   "metadata": {},
   "outputs": [
    {
     "name": "stdout",
     "output_type": "stream",
     "text": [
      "[60, 50, 70, 90]\n"
     ]
    }
   ],
   "source": [
    "#Q7 Reverse the following list using for loop\n",
    "#list1=[90,70,50,60]\n",
    "List1=[90,70,50,60]\n",
    "a=len(List1)\n",
    "b=[]\n",
    "for i in range(len(List1)):\n",
    "    c=List1[a-1]\n",
    "    b.append(c)\n",
    "    a=a-1\n",
    "print(b)\n",
    "    \n",
    "   \n",
    "    \n",
    "    \n",
    "    "
   ]
  },
  {
   "cell_type": "code",
   "execution_count": 81,
   "metadata": {},
   "outputs": [
    {
     "name": "stdout",
     "output_type": "stream",
     "text": [
      "-10\n",
      "-9\n",
      "-8\n",
      "-7\n",
      "-6\n",
      "-5\n",
      "-4\n",
      "-3\n",
      "-2\n",
      "-1\n"
     ]
    }
   ],
   "source": [
    "#Q8 Display numbers from -10 to -1 using for loop [hint use range method]\n",
    "for i in range(-10,0):\n",
    "    print(i)"
   ]
  }
 ],
 "metadata": {
  "kernelspec": {
   "display_name": "Python 3",
   "language": "python",
   "name": "python3"
  },
  "language_info": {
   "codemirror_mode": {
    "name": "ipython",
    "version": 3
   },
   "file_extension": ".py",
   "mimetype": "text/x-python",
   "name": "python",
   "nbconvert_exporter": "python",
   "pygments_lexer": "ipython3",
   "version": "3.8.5"
  }
 },
 "nbformat": 4,
 "nbformat_minor": 4
}
