{
 "cells": [
  {
   "cell_type": "code",
   "execution_count": 7,
   "metadata": {},
   "outputs": [
    {
     "data": {
      "text/plain": [
       "('Adam',\n",
       " 'Gaurav',\n",
       " 'Riley',\n",
       " 'Romita',\n",
       " 'Saloni',\n",
       " 'Saman',\n",
       " 'Santhiya',\n",
       " 'Pray',\n",
       " 'Jainam',\n",
       " 'Leul',\n",
       " 'Gilmara',\n",
       " 'Tony',\n",
       " 'Ulan',\n",
       " 'Jerry',\n",
       " 'Ola')"
      ]
     },
     "execution_count": 7,
     "metadata": {},
     "output_type": "execute_result"
    }
   ],
   "source": [
    "#Q1 Create a tuple with all participant names in the JDA program\n",
    "tuple1=(\"Adam\",\"Gaurav\",\"Riley\",\"Romita\",\"Saloni\",\"Saman\",\"Santhiya\",\"Pray\",\"Jainam\",\"Leul\",\"Gilmara\",\"Tony\",\"Ulan\",\"Jerry\",\"Ola\")\n",
    "tuple1"
   ]
  },
  {
   "cell_type": "code",
   "execution_count": 16,
   "metadata": {},
   "outputs": [
    {
     "data": {
      "text/plain": [
       "['Adam',\n",
       " 'Gaurav',\n",
       " 'Riley',\n",
       " 'Romita',\n",
       " 'Saloni',\n",
       " 'Saman',\n",
       " 'Santhiya',\n",
       " 'Pray',\n",
       " 'Jainam',\n",
       " 'Leul',\n",
       " 'Gilmara',\n",
       " 'Tony',\n",
       " 'Ulan',\n",
       " 'Jerry',\n",
       " 'Ola']"
      ]
     },
     "execution_count": 16,
     "metadata": {},
     "output_type": "execute_result"
    }
   ],
   "source": [
    "#Q2 Convert the tuple into a list called pps_L\n",
    "ppl_L=list(tuple1)\n",
    "ppl_L"
   ]
  },
  {
   "cell_type": "code",
   "execution_count": 9,
   "metadata": {},
   "outputs": [
    {
     "data": {
      "text/plain": [
       "15"
      ]
     },
     "execution_count": 9,
     "metadata": {},
     "output_type": "execute_result"
    }
   ],
   "source": [
    "#Q3 What is the length of your list \n",
    "len(ppl_L)"
   ]
  },
  {
   "cell_type": "code",
   "execution_count": 11,
   "metadata": {},
   "outputs": [
    {
     "name": "stdout",
     "output_type": "stream",
     "text": [
      "Romita Saman Ola\n"
     ]
    }
   ],
   "source": [
    "#Q4 Find the values stored in indexes [3],[5],[14],[30],[38]\n",
    "print(ppl_L[3],ppl_L[5],ppl_L[14])"
   ]
  },
  {
   "cell_type": "code",
   "execution_count": 13,
   "metadata": {},
   "outputs": [
    {
     "data": {
      "text/plain": [
       "False"
      ]
     },
     "execution_count": 13,
     "metadata": {},
     "output_type": "execute_result"
    }
   ],
   "source": [
    "#Q5 Check if \"Sarah\" is in the list\n",
    "\"Sarah\" in ppl_L"
   ]
  },
  {
   "cell_type": "code",
   "execution_count": 17,
   "metadata": {},
   "outputs": [
    {
     "data": {
      "text/plain": [
       "['Adam',\n",
       " 'Gaurav',\n",
       " 'Riley',\n",
       " 'Romita',\n",
       " 'Saloni',\n",
       " 'Saman',\n",
       " 'Santhiya',\n",
       " 'Pray',\n",
       " 'Jainam',\n",
       " 'Leul',\n",
       " 'Gilmara',\n",
       " 'Tony',\n",
       " 'Ulan',\n",
       " 'Jerry',\n",
       " 'Ola',\n",
       " 'Sarah']"
      ]
     },
     "execution_count": 17,
     "metadata": {},
     "output_type": "execute_result"
    }
   ],
   "source": [
    "#Q6 Add \"Sarah\" to your list\n",
    "ppl_L.append(\"Sarah\")\n",
    "ppl_L"
   ]
  },
  {
   "cell_type": "code",
   "execution_count": 19,
   "metadata": {},
   "outputs": [
    {
     "data": {
      "text/plain": [
       "False"
      ]
     },
     "execution_count": 19,
     "metadata": {},
     "output_type": "execute_result"
    }
   ],
   "source": [
    "#Q7 Check if \"Bashir\" is in the list\n",
    "\"Bashir\" in ppl_L"
   ]
  },
  {
   "cell_type": "code",
   "execution_count": 20,
   "metadata": {},
   "outputs": [
    {
     "data": {
      "text/plain": [
       "['Adam',\n",
       " 'Gaurav',\n",
       " 'Riley',\n",
       " 'Romita',\n",
       " 'Saloni',\n",
       " 'Saman',\n",
       " 'Santhiya',\n",
       " 'Pray',\n",
       " 'Jainam',\n",
       " 'Leul',\n",
       " 'Gilmara',\n",
       " 'Tony',\n",
       " 'Ulan',\n",
       " 'Jerry',\n",
       " 'Ola',\n",
       " 'Sarah',\n",
       " 'Bashir']"
      ]
     },
     "execution_count": 20,
     "metadata": {},
     "output_type": "execute_result"
    }
   ],
   "source": [
    "#Q9 Add \"Bashir\" to your list\n",
    "ppl_L.append(\"Bashir\")\n",
    "ppl_L"
   ]
  },
  {
   "cell_type": "code",
   "execution_count": 21,
   "metadata": {},
   "outputs": [
    {
     "data": {
      "text/plain": [
       "15"
      ]
     },
     "execution_count": 21,
     "metadata": {},
     "output_type": "execute_result"
    }
   ],
   "source": [
    "#Q10 Find the index of the element \"Sarah\" in the list\n",
    "ppl_L.index(\"Sarah\")"
   ]
  },
  {
   "cell_type": "code",
   "execution_count": 22,
   "metadata": {},
   "outputs": [
    {
     "data": {
      "text/plain": [
       "['Adam',\n",
       " 'Gaurav',\n",
       " 'Riley',\n",
       " 'Romita',\n",
       " 'Saloni',\n",
       " 'Saman',\n",
       " 'Santhiya',\n",
       " 'Pray',\n",
       " 'Jainam',\n",
       " 'Leul',\n",
       " 'Gilmara',\n",
       " 'Tony',\n",
       " 'Ulan',\n",
       " 'Jerry',\n",
       " 'Ola',\n",
       " 'Instructor',\n",
       " 'Bashir']"
      ]
     },
     "execution_count": 22,
     "metadata": {},
     "output_type": "execute_result"
    }
   ],
   "source": [
    "#Q11 Change the value of the index in Q10 from \"Sarah\" to \"Instructor\"\n",
    "ppl_L[15]=\"Instructor\"\n",
    "ppl_L"
   ]
  },
  {
   "cell_type": "code",
   "execution_count": 23,
   "metadata": {},
   "outputs": [
    {
     "data": {
      "text/plain": [
       "16"
      ]
     },
     "execution_count": 23,
     "metadata": {},
     "output_type": "execute_result"
    }
   ],
   "source": [
    "#Q12 Find the index of the element \"Bashir\" in the list\n",
    "ppl_L.index(\"Bashir\")"
   ]
  },
  {
   "cell_type": "code",
   "execution_count": 24,
   "metadata": {},
   "outputs": [
    {
     "data": {
      "text/plain": [
       "['Adam',\n",
       " 'Gaurav',\n",
       " 'Riley',\n",
       " 'Romita',\n",
       " 'Saloni',\n",
       " 'Saman',\n",
       " 'Santhiya',\n",
       " 'Pray',\n",
       " 'Jainam',\n",
       " 'Leul',\n",
       " 'Gilmara',\n",
       " 'Tony',\n",
       " 'Ulan',\n",
       " 'Jerry',\n",
       " 'Ola',\n",
       " 'Instructor',\n",
       " 'Peer-Mentor']"
      ]
     },
     "execution_count": 24,
     "metadata": {},
     "output_type": "execute_result"
    }
   ],
   "source": [
    "#Q13 Change the value of the index in Q12 from \"Bashir\" to \"Peer-Mentor\"\n",
    "ppl_L[16]=\"Peer-Mentor\"\n",
    "ppl_L"
   ]
  }
 ],
 "metadata": {
  "kernelspec": {
   "display_name": "Python 3",
   "language": "python",
   "name": "python3"
  },
  "language_info": {
   "codemirror_mode": {
    "name": "ipython",
    "version": 3
   },
   "file_extension": ".py",
   "mimetype": "text/x-python",
   "name": "python",
   "nbconvert_exporter": "python",
   "pygments_lexer": "ipython3",
   "version": "3.8.5"
  }
 },
 "nbformat": 4,
 "nbformat_minor": 4
}
