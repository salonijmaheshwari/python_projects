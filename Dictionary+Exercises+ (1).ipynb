{
 "cells": [
  {
   "cell_type": "code",
   "execution_count": 13,
   "metadata": {},
   "outputs": [
    {
     "data": {
      "text/plain": [
       "{'A': ('Adam', 'Ajinkya', 'Akash', 'Alka'),\n",
       " 'G': ('Gaurav', 'Gilmara'),\n",
       " 'R': ('Riley', 'Romita'),\n",
       " 'S': ('Saloni', 'Saman', 'Santhiya'),\n",
       " 'J': ('Jainam', 'Jerry'),\n",
       " 'I': 'Imara',\n",
       " 'M': ('Mehrmaz', 'Muhammad'),\n",
       " 'C': 'Chloe'}"
      ]
     },
     "execution_count": 13,
     "metadata": {},
     "output_type": "execute_result"
    }
   ],
   "source": [
    "#Q1 Create a dictionary for all participants in the JDA program.\n",
    "#Keys should be the first letter in their names, Values should be their names.\n",
    "#[Hint] dic={\"l\":(Leul),\"J\":(Jerry,Jainam)........}\n",
    "dic={\"A\":(\"Adam\",\"Ajinkya\",\"Akash\",\"Alka\"),\"G\":(\"Gaurav\",\"Gilmara\"),\"R\":(\"Riley\",\"Romita\"),\"S\":(\"Saloni\",\"Saman\",\"Santhiya\"),\"J\":(\"Jainam\",\"Jerry\"),\"I\":\"Imara\",\"M\":(\"Mehrmaz\",\"Muhammad\"),\"C\":\"Chloe\"}\n",
    "dic"
   ]
  },
  {
   "cell_type": "code",
   "execution_count": 4,
   "metadata": {},
   "outputs": [
    {
     "data": {
      "text/plain": [
       "dict_keys(['A', 'G', 'R', 'S', 'J', 'I', 'M', 'C'])"
      ]
     },
     "execution_count": 4,
     "metadata": {},
     "output_type": "execute_result"
    }
   ],
   "source": [
    "#Q2 What are the keys of your dictionary\n",
    "dic.keys()"
   ]
  },
  {
   "cell_type": "code",
   "execution_count": 5,
   "metadata": {},
   "outputs": [
    {
     "data": {
      "text/plain": [
       "dict_values([('Adam', 'Ajinkya', 'Akash', 'Alka'), ('Gaurav', 'Gilmara'), ('Riley', 'Romita'), ('Saloni', 'Saman', 'Santhiya'), ('Jainam', 'Jerry'), 'Imara', ('Mehrmaz', 'Muhammad'), 'Chloe'])"
      ]
     },
     "execution_count": 5,
     "metadata": {},
     "output_type": "execute_result"
    }
   ],
   "source": [
    "#Q3 What are the values of your dictionary\n",
    "dic.values()"
   ]
  },
  {
   "cell_type": "code",
   "execution_count": 9,
   "metadata": {},
   "outputs": [
    {
     "name": "stdout",
     "output_type": "stream",
     "text": [
      "('Jainam', 'Jerry')\n",
      "Imara\n",
      "('Mehrmaz', 'Muhammad')\n",
      "Chloe\n",
      "('Adam', 'Ajinkya', 'Akash', 'Alka')\n"
     ]
    }
   ],
   "source": [
    "#Q4 Find participant's names that start with J,I,M,C,A\n",
    "print(dic[\"J\"])\n",
    "print(dic[\"I\"])\n",
    "print(dic[\"M\"])\n",
    "print(dic[\"C\"])\n",
    "print(dic[\"A\"])"
   ]
  },
  {
   "cell_type": "code",
   "execution_count": 14,
   "metadata": {},
   "outputs": [
    {
     "data": {
      "text/plain": [
       "{'A': ('Adam', 'Ajinkya', 'Akash', 'Alka'),\n",
       " 'G': ('Gaurav', 'Gilmara'),\n",
       " 'R': ('Riley', 'Romita'),\n",
       " 'S': ('Saloni', 'Saman', 'Santhiya'),\n",
       " 'J': ('Jainam', 'Jerry'),\n",
       " 'I': 'Imara',\n",
       " 'M': ('Mehrmaz', 'Muhammad'),\n",
       " 'C': 'Chloe',\n",
       " 'K,PD': 'Kristina'}"
      ]
     },
     "execution_count": 14,
     "metadata": {},
     "output_type": "execute_result"
    }
   ],
   "source": [
    "#Q5 Add the following to your dictionary \n",
    "# Key<(K,PD), Value(Kristina)\n",
    "dic[\"K,PD\"]=\"Kristina\"\n",
    "dic"
   ]
  },
  {
   "cell_type": "code",
   "execution_count": 15,
   "metadata": {},
   "outputs": [
    {
     "data": {
      "text/plain": [
       "9"
      ]
     },
     "execution_count": 15,
     "metadata": {},
     "output_type": "execute_result"
    }
   ],
   "source": [
    "#Q6 Find the length of your dictionary  \n",
    "len(dic)"
   ]
  },
  {
   "cell_type": "code",
   "execution_count": 21,
   "metadata": {},
   "outputs": [
    {
     "data": {
      "text/plain": [
       "{'A': ('Adam', 'Ajinkya', 'Akash', 'Alka'),\n",
       " 'G': ('Gaurav', 'Gilmara'),\n",
       " 'R': ('Riley', 'Romita'),\n",
       " 'S': ('Saloni', 'Saman', 'Santhiya'),\n",
       " 'J': ('Jainam', 'Jerry'),\n",
       " 'I': 'Imara',\n",
       " 'M': ('Mehrmaz', 'Muhammad'),\n",
       " 'C': 'Chloe',\n",
       " 'K,PD': 'Kristina',\n",
       " 'S,Instructor': 'Sarah'}"
      ]
     },
     "execution_count": 21,
     "metadata": {},
     "output_type": "execute_result"
    }
   ],
   "source": [
    "#Q7 Add the following to your dictionary \n",
    "# Key<(S,Instructor), Value(Sarah)\n",
    "dic.update({\"S,Instructor\":\"Sarah\"})\n",
    "dic"
   ]
  },
  {
   "cell_type": "code",
   "execution_count": 17,
   "metadata": {},
   "outputs": [
    {
     "data": {
      "text/plain": [
       "10"
      ]
     },
     "execution_count": 17,
     "metadata": {},
     "output_type": "execute_result"
    }
   ],
   "source": [
    "#Q8 Find the length of your dictionary  \n",
    "len(dic)"
   ]
  },
  {
   "cell_type": "code",
   "execution_count": 22,
   "metadata": {},
   "outputs": [
    {
     "data": {
      "text/plain": [
       "{'A': ('Adam', 'Ajinkya', 'Akash', 'Alka'),\n",
       " 'G': ('Gaurav', 'Gilmara'),\n",
       " 'R': ('Riley', 'Romita'),\n",
       " 'S': ('Saloni', 'Saman', 'Santhiya'),\n",
       " 'I': 'Imara',\n",
       " 'M': ('Mehrmaz', 'Muhammad'),\n",
       " 'C': 'Chloe',\n",
       " 'K,PD': 'Kristina'}"
      ]
     },
     "execution_count": 22,
     "metadata": {},
     "output_type": "execute_result"
    }
   ],
   "source": [
    "#Q7 Delete the following keys from your dictionary \n",
    "#Key<(S,Instructor)\n",
    "#Key<J>\n",
    "del dic[\"S,Instructor\"]\n",
    "dic.pop(\"J\")\n",
    "dic"
   ]
  },
  {
   "cell_type": "code",
   "execution_count": 23,
   "metadata": {},
   "outputs": [
    {
     "data": {
      "text/plain": [
       "8"
      ]
     },
     "execution_count": 23,
     "metadata": {},
     "output_type": "execute_result"
    }
   ],
   "source": [
    "#Q9 Find the length of your dictionary  \n",
    "len(dic)"
   ]
  },
  {
   "cell_type": "code",
   "execution_count": 30,
   "metadata": {},
   "outputs": [
    {
     "name": "stdout",
     "output_type": "stream",
     "text": [
      "<class 'dict'>\n",
      "{}\n"
     ]
    }
   ],
   "source": [
    "#Q10 Create a new dictionary called synonyms_dic\n",
    "synonyms_dic={}\n",
    "print(type(synonyms_dic))\n",
    "print(synonyms_dic)"
   ]
  },
  {
   "cell_type": "code",
   "execution_count": 32,
   "metadata": {},
   "outputs": [
    {
     "data": {
      "text/plain": [
       "{'Bad': 'Unpleasant',\n",
       " 'Good': 'Super',\n",
       " 'Awesome': 'Amazing',\n",
       " 'Cold': 'Cool',\n",
       " 'Easy': 'Simple',\n",
       " 'Hard': 'Tough',\n",
       " 'Big': 'Large',\n",
       " 'Small': 'Tiny'}"
      ]
     },
     "execution_count": 32,
     "metadata": {},
     "output_type": "execute_result"
    }
   ],
   "source": [
    "#Q11 Add the synonyms of the following words to your dictionary \n",
    "#Bad, Good, Awesome, Cold, Easy, Hard, Big, Small\n",
    "synonyms_dic[\"Bad\"]=\"Unpleasant\"\n",
    "synonyms_dic[\"Good\"]=\"Super\"\n",
    "synonyms_dic\n",
    "\n",
    "synonyms_dic.update({\"Awesome\":\"Amazing\",\"Cold\":\"Cool\",\"Easy\":\"Simple\",\"Hard\":\"Tough\",\"Big\":\"Large\",\"Small\":\"Tiny\"})\n",
    "synonyms_dic\n"
   ]
  },
  {
   "cell_type": "code",
   "execution_count": 38,
   "metadata": {},
   "outputs": [
    {
     "name": "stdout",
     "output_type": "stream",
     "text": [
      "Awesome = Amazing\n",
      "Easy = Simple\n",
      "Small = Tiny\n"
     ]
    },
    {
     "ename": "KeyError",
     "evalue": "'Old'",
     "output_type": "error",
     "traceback": [
      "\u001b[1;31m---------------------------------------------------------------------------\u001b[0m",
      "\u001b[1;31mKeyError\u001b[0m                                  Traceback (most recent call last)",
      "\u001b[1;32m<ipython-input-38-56dd71411243>\u001b[0m in \u001b[0;36m<module>\u001b[1;34m\u001b[0m\n\u001b[0;32m      4\u001b[0m \u001b[0mprint\u001b[0m\u001b[1;33m(\u001b[0m\u001b[1;34m\"Easy =\"\u001b[0m\u001b[1;33m,\u001b[0m\u001b[0msynonyms_dic\u001b[0m\u001b[1;33m[\u001b[0m\u001b[1;34m'Easy'\u001b[0m\u001b[1;33m]\u001b[0m\u001b[1;33m)\u001b[0m\u001b[1;33m\u001b[0m\u001b[1;33m\u001b[0m\u001b[0m\n\u001b[0;32m      5\u001b[0m \u001b[0mprint\u001b[0m\u001b[1;33m(\u001b[0m\u001b[1;34m\"Small =\"\u001b[0m\u001b[1;33m,\u001b[0m\u001b[0msynonyms_dic\u001b[0m\u001b[1;33m[\u001b[0m\u001b[1;34m'Small'\u001b[0m\u001b[1;33m]\u001b[0m\u001b[1;33m)\u001b[0m\u001b[1;33m\u001b[0m\u001b[1;33m\u001b[0m\u001b[0m\n\u001b[1;32m----> 6\u001b[1;33m \u001b[0mprint\u001b[0m\u001b[1;33m(\u001b[0m\u001b[1;34m\"Old =\"\u001b[0m\u001b[1;33m,\u001b[0m\u001b[0msynonyms_dic\u001b[0m\u001b[1;33m[\u001b[0m\u001b[1;34m'Old'\u001b[0m\u001b[1;33m]\u001b[0m\u001b[1;33m)\u001b[0m\u001b[1;33m\u001b[0m\u001b[1;33m\u001b[0m\u001b[0m\n\u001b[0m",
      "\u001b[1;31mKeyError\u001b[0m: 'Old'"
     ]
    }
   ],
   "source": [
    "#Q12 Use your dictionary to find the synonym of the following words \n",
    "# Awesome, Easy, Small, Old\n",
    "print(\"Awesome =\",synonyms_dic['Awesome'])\n",
    "print(\"Easy =\",synonyms_dic['Easy'])\n",
    "print(\"Small =\",synonyms_dic['Small'])\n",
    "print(\"Old =\",synonyms_dic['Old'])"
   ]
  },
  {
   "cell_type": "code",
   "execution_count": 39,
   "metadata": {},
   "outputs": [
    {
     "data": {
      "text/plain": [
       "{}"
      ]
     },
     "execution_count": 39,
     "metadata": {},
     "output_type": "execute_result"
    }
   ],
   "source": [
    "#Q13 Delete everything from synonyms_dic\n",
    "synonyms_dic.clear()\n",
    "synonyms_dic"
   ]
  },
  {
   "cell_type": "code",
   "execution_count": 40,
   "metadata": {},
   "outputs": [
    {
     "data": {
      "text/plain": [
       "{}"
      ]
     },
     "execution_count": 40,
     "metadata": {},
     "output_type": "execute_result"
    }
   ],
   "source": [
    "#Q14 Print all values in synonyms_dic\n",
    "synonyms_dic"
   ]
  },
  {
   "cell_type": "code",
   "execution_count": 41,
   "metadata": {},
   "outputs": [
    {
     "data": {
      "text/plain": [
       "{'True': 1, 'False': 0}"
      ]
     },
     "execution_count": 41,
     "metadata": {},
     "output_type": "execute_result"
    }
   ],
   "source": [
    "#Q15 Convert the below two lists into dictionary\n",
    "Keys=[\"True\",\"False\"]\n",
    "Values=[1,0]\n",
    "new_dic = {Keys[i]:Values[i] for i in range(len(Keys))}\n",
    "new_dic"
   ]
  },
  {
   "cell_type": "code",
   "execution_count": 52,
   "metadata": {},
   "outputs": [
    {
     "name": "stdout",
     "output_type": "stream",
     "text": [
      "dict_values([1000, 1500, 980, 1000])\n"
     ]
    },
    {
     "data": {
      "text/plain": [
       "4480"
      ]
     },
     "execution_count": 52,
     "metadata": {},
     "output_type": "execute_result"
    }
   ],
   "source": [
    "#Q16 Sum all the items in the following dictionary\n",
    "income={'Jan':1000,'Feb':1500,'Mar':980,'April':1000}\n",
    "values=income.values()\n",
    "print(values)\n",
    "Sum=sum(values)\n",
    "Sum"
   ]
  },
  {
   "cell_type": "code",
   "execution_count": 1,
   "metadata": {
    "scrolled": true
   },
   "outputs": [
    {
     "name": "stdout",
     "output_type": "stream",
     "text": [
      "['110', '101', '10', '1011', '110', '1001', '111', '1101']\n",
      "[110, 101, 10, 1011, 110, 1001, 111, 1101]\n",
      "I am hungry , I want to eat "
     ]
    }
   ],
   "source": [
    "#Q17 Create the following dictionary encryption={10:\"hungry\", 101:\"am\", 110:\"I\", 1011:\",\" ,1101:\"eat\", 1001:\"want\", 111:\"to\"}\n",
    "# What should the the decryption of the following code \"110 101 10 1011 110 1001 111 1101\"\n",
    "encryption={10:\"hungry\", 101:\"am\", 110:\"I\", 1011:\",\" ,1101:\"eat\", 1001:\"want\", 111:\"to\"}\n",
    "# What should the the decryption of the following code \"110 101 10 1011 110 1001 111 1101\"\n",
    "\n",
    "code=\"110 101 10 1011 110 1001 111 1101\"\n",
    "\n",
    "decript_list=code.split()\n",
    "print(decript_list)\n",
    "\n",
    "decript_list = [int(i) for i in decript_list]\n",
    "print(decript_list)\n",
    "\n",
    "decryption=\" \"\n",
    "for i in decript_list:\n",
    "    print(encryption[i],end=\" \")"
   ]
  }
 ],
 "metadata": {
  "kernelspec": {
   "display_name": "Python 3",
   "language": "python",
   "name": "python3"
  },
  "language_info": {
   "codemirror_mode": {
    "name": "ipython",
    "version": 3
   },
   "file_extension": ".py",
   "mimetype": "text/x-python",
   "name": "python",
   "nbconvert_exporter": "python",
   "pygments_lexer": "ipython3",
   "version": "3.8.5"
  }
 },
 "nbformat": 4,
 "nbformat_minor": 4
}
