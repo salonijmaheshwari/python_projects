{
 "cells": [
  {
   "cell_type": "code",
   "execution_count": 2,
   "metadata": {},
   "outputs": [
    {
     "name": "stdout",
     "output_type": "stream",
     "text": [
      "Result: 32\n"
     ]
    }
   ],
   "source": [
    "#Q1 Write Python function that takes two inputs and return their sum value\n",
    "def addition(val1,val2):\n",
    "    return val1+val2\n",
    "\n",
    "print(\"Result:\",addition(11,21))"
   ]
  },
  {
   "cell_type": "code",
   "execution_count": 27,
   "metadata": {},
   "outputs": [
    {
     "name": "stdout",
     "output_type": "stream",
     "text": [
      "Enter Temprature in Celsius:37\n",
      "Fahrenheit: 98.60000000000001\n"
     ]
    }
   ],
   "source": [
    "#Q2 Write Python function the takes a celsius temprature and converts it into fahrenheit \n",
    "def Temprature(Celcius):\n",
    "    return 9/5*Celcius + 32\n",
    "\n",
    "a=float(input(\"Enter Temprature in Celsius:\"))\n",
    "\n",
    "print(\"Fahrenheit:\",Temprature(a))"
   ]
  },
  {
   "cell_type": "code",
   "execution_count": 12,
   "metadata": {},
   "outputs": [
    {
     "name": "stdout",
     "output_type": "stream",
     "text": [
      "Maximum: 9\n"
     ]
    }
   ],
   "source": [
    "#Q3 Write a Python function to find the Max of three numbers\n",
    "def Maximum(a,b,c):\n",
    "    if(a>b and a>c):\n",
    "        return a\n",
    "    elif(b>c):\n",
    "        return b\n",
    "    else:\n",
    "        return c\n",
    "\n",
    "print(\"Maximum:\",Maximum(5,2,9))"
   ]
  },
  {
   "cell_type": "code",
   "execution_count": 28,
   "metadata": {},
   "outputs": [
    {
     "name": "stdout",
     "output_type": "stream",
     "text": [
      "12 is not in the given range\n"
     ]
    }
   ],
   "source": [
    "#Q4 Write a Python function to check whether a number is in a given range [5,12]\n",
    "\n",
    "def Search(a):\n",
    "    if a in range(5,12):\n",
    "        print(a,\"is in the given range[5,12]\")\n",
    "    else:\n",
    "        print(a,\"is not in the given range\")\n",
    "        \n",
    "Search(12)"
   ]
  },
  {
   "cell_type": "code",
   "execution_count": 35,
   "metadata": {},
   "outputs": [
    {
     "name": "stdout",
     "output_type": "stream",
     "text": [
      "[1, 2, 3, 4, 5]\n"
     ]
    }
   ],
   "source": [
    "#Q5 Write a Python function that takes a list and returns a new list with unique elements of the first\n",
    "#Sample_List : [1,2,3,3,3,3,4,5]\n",
    "\n",
    "Sample_List=[1,2,3,3,3,3,4,5]\n",
    "newList=[]\n",
    "\n",
    "\n",
    "def Find_unique(list1):\n",
    "    for i in list1:\n",
    "        if i not in newList:\n",
    "            newList.append(i)\n",
    "Find_unique(Sample_List)        \n",
    "print(newList)\n",
    "    \n",
    "     "
   ]
  },
  {
   "cell_type": "code",
   "execution_count": 37,
   "metadata": {},
   "outputs": [
    {
     "name": "stdout",
     "output_type": "stream",
     "text": [
      "List1: True\n",
      "List2: False\n",
      "List3: True\n"
     ]
    }
   ],
   "source": [
    "#Q6 Given a list of numbers, return True if first and last number of a list is same\n",
    "#list1=[1,2,5,4,1]\n",
    "#list2=[5,6,3,2,1]\n",
    "#list3=[88,44,55,66,77,88]\n",
    "\n",
    "List1=[1,2,5,4,1]\n",
    "List2=[5,6,3,2,1]\n",
    "List3=[88,44,55,66,77,88]\n",
    "\n",
    "def Check(List_check):\n",
    "    if(List_check[0]==List_check[-1]):\n",
    "        return True\n",
    "    else:\n",
    "        return False\n",
    "    \n",
    "print(\"List1:\",Check(List1))\n",
    "print(\"List2:\",Check(List2))\n",
    "print(\"List3:\",Check(List3))\n"
   ]
  }
 ],
 "metadata": {
  "kernelspec": {
   "display_name": "Python 3",
   "language": "python",
   "name": "python3"
  },
  "language_info": {
   "codemirror_mode": {
    "name": "ipython",
    "version": 3
   },
   "file_extension": ".py",
   "mimetype": "text/x-python",
   "name": "python",
   "nbconvert_exporter": "python",
   "pygments_lexer": "ipython3",
   "version": "3.8.5"
  }
 },
 "nbformat": 4,
 "nbformat_minor": 4
}
